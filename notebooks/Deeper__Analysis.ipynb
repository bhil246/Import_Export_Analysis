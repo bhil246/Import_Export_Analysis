{
 "cells": [
  {
   "cell_type": "code",
   "execution_count": 6,
   "metadata": {},
   "outputs": [],
   "source": [
    "#Compare top 5 ports from each category by\n",
    "    #number of transactions\n",
    "    #volume of imports/exports\n",
    "    #quantity & weight\n",
    "    #total value and value per transaction\n",
    "#Contrast this with the bottom 5 ports \n",
    "#Also hope to see if there any connections to specific countries, suppliers, categories, or customers\n",
    "    #such as a specific customer pays more for a certain category than another \n",
    "    #what is the variance between each port with the value and quantity?\n",
    "#look at trends of price change, shipping method by CATEGORY over the data frames time period "
   ]
  },
  {
   "cell_type": "code",
   "execution_count": 7,
   "metadata": {},
   "outputs": [],
   "source": [
    "#Look at the transaction of each top 5 to further explore any findings or trends \n",
    "    #are they exporting to the same country? importing from the same country? \n",
    "    #which category is most prevelant among the transactions?\n",
    "    #what is the average cost/price per transaction \n"
   ]
  },
  {
   "cell_type": "markdown",
   "metadata": {},
   "source": [
    "This notebook will cover some EDA for net importers and net exporters. I define net importers/exporters by their economic value rather than the volume of transactions. "
   ]
  },
  {
   "cell_type": "code",
   "execution_count": 8,
   "metadata": {},
   "outputs": [],
   "source": [
    "import pandas as pd\n",
    "import numpy as np\n",
    "import matplotlib.pyplot as plt\n",
    "import seaborn as sns"
   ]
  },
  {
   "cell_type": "code",
   "execution_count": 9,
   "metadata": {},
   "outputs": [],
   "source": [
    "trade_df = pd.read_csv('../data/Imports_Exports_Dataset.csv')"
   ]
  },
  {
   "cell_type": "code",
   "execution_count": 10,
   "metadata": {},
   "outputs": [
    {
     "data": {
      "text/plain": [
       "Port\n",
       "Lake Michael           20\n",
       "West Michael           20\n",
       "Port David             17\n",
       "New Michael            14\n",
       "South Michael          14\n",
       "                       ..\n",
       "Lake Kathrynborough     1\n",
       "Lake Kathrynport        1\n",
       "Lake Katieport          1\n",
       "Lake Kaylaberg          1\n",
       "Zoeton                  1\n",
       "Name: Transaction_ID, Length: 10657, dtype: int64"
      ]
     },
     "execution_count": 10,
     "metadata": {},
     "output_type": "execute_result"
    }
   ],
   "source": [
    "#Top 5 ports per total number of transactions\n",
    "num_of_trans_per_port = trade_df.groupby('Port')['Transaction_ID'].count()\n",
    "sorted_num_of_trans_per_port = num_of_trans_per_port.sort_values(ascending = False)\n",
    "sorted_num_of_trans_per_port"
   ]
  },
  {
   "cell_type": "code",
   "execution_count": 11,
   "metadata": {},
   "outputs": [],
   "source": [
    "#Look at the top 5 ports by total quantity, total value, total transactions\n",
    "    #from there, see if there are any trends between categories, customers, suppliers, day of week, payment method, etc"
   ]
  },
  {
   "cell_type": "code",
   "execution_count": 12,
   "metadata": {},
   "outputs": [
    {
     "data": {
      "text/plain": [
       "Port\n",
       "West Michael     131006.93\n",
       "Port David       107401.25\n",
       "Lake Michael     102998.99\n",
       "New Michael       79941.07\n",
       "South Michael     72453.53\n",
       "Name: Value, dtype: float64"
      ]
     },
     "execution_count": 12,
     "metadata": {},
     "output_type": "execute_result"
    }
   ],
   "source": [
    "#top 5 ports by total value\n",
    "sum_value_per_port = trade_df.groupby('Port')['Value'].sum().sort_values(ascending= False).head(5)\n",
    "sum_value_per_port \n",
    "sum_value_per_port = trade_df.groupby('Port')['Value'].sum().sort_values(ascending= False).head(5)\n",
    "sum_value_per_port"
   ]
  },
  {
   "cell_type": "code",
   "execution_count": 13,
   "metadata": {},
   "outputs": [
    {
     "data": {
      "text/plain": [
       "98760.354"
      ]
     },
     "execution_count": 13,
     "metadata": {},
     "output_type": "execute_result"
    }
   ],
   "source": [
    "#avg value per port to help filter for new dataframe\n",
    "avg_value_per_port = sum_value_per_port.mean()\n",
    "avg_value_per_port"
   ]
  },
  {
   "cell_type": "code",
   "execution_count": 14,
   "metadata": {},
   "outputs": [
    {
     "data": {
      "text/plain": [
       "Port\n",
       "West Michael       50996.80\n",
       "Port David         50108.67\n",
       "Lake Michael       47367.43\n",
       "Michaelmouth       38541.38\n",
       "Port Kevin         37401.62\n",
       "                     ...   \n",
       "East Angelaport        5.86\n",
       "Jasmineborough         4.03\n",
       "Hamiltonhaven          3.69\n",
       "Port Laurieport        2.80\n",
       "Micheleland            1.52\n",
       "Name: Weight, Length: 10657, dtype: float64"
      ]
     },
     "execution_count": 14,
     "metadata": {},
     "output_type": "execute_result"
    }
   ],
   "source": [
    "#top 5 ports per total weight\n",
    "sum_weight_per_port = trade_df.groupby('Port')['Weight'].sum()\n",
    "sum_weight_per_port\n",
    "top_5_ports_per_total_weight = sum_weight_per_port.sort_values(ascending = False)\n",
    "top_5_ports_per_total_weight"
   ]
  },
  {
   "cell_type": "code",
   "execution_count": 15,
   "metadata": {},
   "outputs": [
    {
     "data": {
      "text/plain": [
       "3507.721017171812"
      ]
     },
     "execution_count": 15,
     "metadata": {},
     "output_type": "execute_result"
    }
   ],
   "source": [
    "#avg weight by port \n",
    "avg_weight_per_port = sum_weight_per_port.mean()\n",
    "avg_weight_per_port"
   ]
  },
  {
   "cell_type": "code",
   "execution_count": 16,
   "metadata": {},
   "outputs": [
    {
     "data": {
      "text/plain": [
       "Port\n",
       "Lake Michael         120448\n",
       "West Michael         116899\n",
       "Port David            90573\n",
       "South Michael         73917\n",
       "New Michael           72885\n",
       "                      ...  \n",
       "New Paulhaven             9\n",
       "Stonebury                 9\n",
       "South Briannaview         8\n",
       "Huntermouth               8\n",
       "West Amyland              5\n",
       "Name: Quantity, Length: 10657, dtype: int64"
      ]
     },
     "execution_count": 16,
     "metadata": {},
     "output_type": "execute_result"
    }
   ],
   "source": [
    "#top 5 ports per total quantity \n",
    "sum_of_total_quantity_per_port = trade_df.groupby('Port')['Quantity'].sum()\n",
    "sum_of_total_quantity_per_port\n",
    "top_5_port_per_quantity = sum_of_total_quantity_per_port.sort_values(ascending=False)\n",
    "top_5_port_per_quantity"
   ]
  },
  {
   "cell_type": "code",
   "execution_count": 17,
   "metadata": {},
   "outputs": [
    {
     "data": {
      "text/plain": [
       "7010.258140189547"
      ]
     },
     "execution_count": 17,
     "metadata": {},
     "output_type": "execute_result"
    }
   ],
   "source": [
    "#avg total quantity per port \n",
    "avg_total_quantity_per_port = sum_of_total_quantity_per_port.mean()\n",
    "avg_total_quantity_per_port"
   ]
  },
  {
   "cell_type": "code",
   "execution_count": 18,
   "metadata": {},
   "outputs": [],
   "source": [
    "#top 5 port by import/export amount"
   ]
  },
  {
   "cell_type": "code",
   "execution_count": 19,
   "metadata": {},
   "outputs": [
    {
     "data": {
      "text/plain": [
       "Port\n",
       "Lake Michael        11\n",
       "West Michael        11\n",
       "New Michael         10\n",
       "East Jennifer        9\n",
       "East Michael         9\n",
       "                    ..\n",
       "Lake Danielhaven     1\n",
       "Lake Danielfurt      1\n",
       "Lake Cynthiaview     1\n",
       "Lake Cynthiafort     1\n",
       "Zhangtown            1\n",
       "Name: Transaction_ID, Length: 6040, dtype: int64"
      ]
     },
     "execution_count": 19,
     "metadata": {},
     "output_type": "execute_result"
    }
   ],
   "source": [
    "\n",
    "#top 5 ports by export count\n",
    "export_df = trade_df[trade_df['Import_Export'] == 'Export']\n",
    "export_counts_per_port = export_df.groupby('Port')['Transaction_ID'].count()\n",
    "top_5_ports_by_export_count = export_counts_per_port.sort_values(ascending= False)\n",
    "top_5_ports_by_export_count"
   ]
  },
  {
   "cell_type": "code",
   "execution_count": 20,
   "metadata": {},
   "outputs": [
    {
     "data": {
      "text/plain": [
       "1.2302980132450332"
      ]
     },
     "execution_count": 20,
     "metadata": {},
     "output_type": "execute_result"
    }
   ],
   "source": [
    "#avg number of exports per port \n",
    "avg_num_of_export_per_port = export_counts_per_port.mean()\n",
    "avg_num_of_export_per_port"
   ]
  },
  {
   "cell_type": "code",
   "execution_count": 21,
   "metadata": {},
   "outputs": [
    {
     "data": {
      "text/plain": [
       "Port\n",
       "Port David           10\n",
       "West Michael          9\n",
       "Lake Michael          9\n",
       "Johnmouth             8\n",
       "North Christopher     8\n",
       "                     ..\n",
       "Lake Dylan            1\n",
       "Lake Dustinbury       1\n",
       "Lake Dustinburgh      1\n",
       "Lake Duane            1\n",
       "Zoeton                1\n",
       "Name: Transaction_ID, Length: 6088, dtype: int64"
      ]
     },
     "execution_count": 21,
     "metadata": {},
     "output_type": "execute_result"
    }
   ],
   "source": [
    "#top 5 port by import count \n",
    "import_df = trade_df[trade_df['Import_Export'] == 'Import']\n",
    "import_counts_per_port = import_df.groupby('Port')['Transaction_ID'].count()\n",
    "top_5_ports_by_import_count = import_counts_per_port.sort_values(ascending= False)\n",
    "top_5_ports_by_import_count \n",
    "\n"
   ]
  },
  {
   "cell_type": "code",
   "execution_count": 22,
   "metadata": {},
   "outputs": [
    {
     "data": {
      "text/plain": [
       "1.2432654402102497"
      ]
     },
     "execution_count": 22,
     "metadata": {},
     "output_type": "execute_result"
    }
   ],
   "source": [
    "#avg number of imports per port \n",
    "avg_num_imports_per_port = import_counts_per_port.mean()\n",
    "avg_num_imports_per_port"
   ]
  },
  {
   "cell_type": "code",
   "execution_count": 23,
   "metadata": {},
   "outputs": [],
   "source": [
    "#average of total import/exports\n",
    "num_of_trans_per_port = trade_df.groupby('Port')['Transaction_ID'].count()\n",
    "sorted_num_of_trans_per_port = num_of_trans_per_port.sort_values(ascending = False)\n",
    "avg_num_of_trans_per_port = num_of_trans_per_port.mean()\n",
    "\n"
   ]
  },
  {
   "cell_type": "code",
   "execution_count": 24,
   "metadata": {},
   "outputs": [],
   "source": [
    "#create a new dataframe where it only returns the transaction where total # number of transactions is greater than the average, number of imports and exports is greater than average, total value is greater than average, total quantity greater than average\n",
    "#"
   ]
  },
  {
   "cell_type": "code",
   "execution_count": 25,
   "metadata": {},
   "outputs": [],
   "source": [
    "#RESEARCH QUESTION IS COMPARING TRANSACTIONS OF TOP 20 NET IMPORTERS VERSUS NET EXPORTERS \n",
    "#LOOKING AT THE TYPES OF TRANSCATIONS THAT OCCURED AS IMPORTS VERSUS EXPORTS - PRICE PER KG, CATEGORY, FREQUENCY, SHIPPING METHOD\n",
    "\n",
    "#CREATE A DATAFRAME THAT GROUPS BY PORTS AND THEN RETURNS WHEN THE FOLLOWING CONDITIONS ARE MET:\n",
    "    # NUM OF TRANSACTIONS \n",
    "#EXAMPLE FINDING, WHERE IS THE TOP PORT LOCATED THAT EXPORTS THE AMOUNT OF A CERTAIN CATEGORY AND FOR HOW MUCH EACH TRANSACTION\n",
    "#which shipping methods or payments methods do the top 5 net importers and net exporters prefer?\n"
   ]
  },
  {
   "cell_type": "code",
   "execution_count": 26,
   "metadata": {},
   "outputs": [],
   "source": [
    "#changed research question to compare the net value of imports and exports instead of by total weight/quantity/etc\n"
   ]
  },
  {
   "cell_type": "markdown",
   "metadata": {},
   "source": [
    "Keep top_net_importers & top_net_exporters to show whether the economic value of imports and exports to show \n",
    "whether one a port is a net importer or exporter"
   ]
  },
  {
   "cell_type": "markdown",
   "metadata": {},
   "source": [
    "net_importer_df\n",
    "net_exporter_df \n",
    "are the dataframes that have all of the ports that were identified as either a net importer and net exporter and also includes \n",
    "    all of the previous columns of data from the original data but filtered down "
   ]
  },
  {
   "cell_type": "markdown",
   "metadata": {},
   "source": [
    "my question hurdle is what is good practice for statistical comparisons? \n",
    "for example, for net importers is it better to use their total amount of imports/exports as a basis for comparison OR\n",
    "    to look at the total number of each import and export to use as comparison to net exporters \n",
    "\n",
    "\n",
    "Looking at the import and export transactions between net importers and net exporters to look at\n",
    "    value per transaction\n",
    "    which category was imported or exported more for net importers/exporters\n",
    "    shipping method and category . what is the cost of the shipping method dependong the category for whether something was imported or exported"
   ]
  },
  {
   "cell_type": "markdown",
   "metadata": {},
   "source": [
    "Overview, comparing the net importers versus net exporters by VALUE and NOT transaction volume. \n",
    "trade value is a more accurate reflection of economic impact rather than the volume "
   ]
  },
  {
   "cell_type": "markdown",
   "metadata": {},
   "source": [
    "LOOK AT THE VALUER PER IMPORT AND EXPORT AND THEN LOOK INTO THE CATEGORIES\n"
   ]
  },
  {
   "cell_type": "code",
   "execution_count": 27,
   "metadata": {},
   "outputs": [
    {
     "ename": "NameError",
     "evalue": "name 'net_importers_avg_value_per_import' is not defined",
     "output_type": "error",
     "traceback": [
      "\u001b[1;31m---------------------------------------------------------------------------\u001b[0m",
      "\u001b[1;31mNameError\u001b[0m                                 Traceback (most recent call last)",
      "Cell \u001b[1;32mIn[27], line 2\u001b[0m\n\u001b[0;32m      1\u001b[0m \u001b[38;5;66;03m#HLPE GRAPHING\u001b[39;00m\n\u001b[1;32m----> 2\u001b[0m net_importers_avg_value_per_import\n\u001b[0;32m      3\u001b[0m net_importers_avg_value_per_export\n\u001b[0;32m      5\u001b[0m net_exporters_avg_value_per_import\n",
      "\u001b[1;31mNameError\u001b[0m: name 'net_importers_avg_value_per_import' is not defined"
     ]
    }
   ],
   "source": [
    "#HLPE GRAPHING\n",
    "net_importers_avg_value_per_import\n",
    "net_importers_avg_value_per_export\n",
    "\n",
    "net_exporters_avg_value_per_import\n",
    "net_exporters_avg_value_per_export\n"
   ]
  },
  {
   "cell_type": "code",
   "execution_count": null,
   "metadata": {},
   "outputs": [],
   "source": [
    "#this looks at the original date frame and finds the total value of imports and exports from the top 20 ports \n",
    "#sum_value_per_port = trade_df.groupby('Port')['Value'].sum().sort_values(ascending= False).head(20)\n",
    "#sum_value_per_port\n",
    "\n",
    "#this is the average value of imports and exports \n",
    "# avg_value_per_port = sum_value_per_port.mean()\n",
    "# avg_value_per_port\n",
    "\n",
    "# USE THESE VARIABLES TO DO A CORRELATION BETWEEN NET IMPORTERS/EXPORTERS\n",
    "# sum_weight_per_port = trade_df.groupby('Port')['Weight'].sum()\n",
    "# sum_weight_per_port\n",
    "\n",
    "# vg_weight_per_port = sum_weight_per_port.mean()\n",
    "# avg_weight_per_port\n",
    "\n",
    "# sum_of_total_quantity_per_port = trade_df.groupby('Port')['Quantity'].sum()\n",
    "# sum_of_total_quantity_per_port\n",
    "\n",
    "# avg_total_quantity_per_port = sum_of_total_quantity_per_port.mean()\n",
    "# avg_total_quantity_per_port\n",
    "\n",
    "# top_5_port_per_quantity = sum_of_total_quantity_per_port.sort_values(ascending=False)\n",
    "# top_5_port_per_quantity\n",
    "\n",
    "# num_of_trans_per_port = trade_df.groupby('Port')['Transaction_ID'].count()\n",
    "# sorted_num_of_trans_per_port = num_of_trans_per_port.sort_values(ascending = False)\n",
    "# sorted_num_of_trans_per_port\n",
    "\n",
    "#sum_of_import_export_amount = trade_df.groupby('Port')['Import_Export'].count()\n",
    "# top_5_ports_by_import_export_amount = sum_of_import_export_amount.sort_values(ascending = False)\n",
    "# top_5_ports_by_import_export_amount\n",
    "# #"
   ]
  },
  {
   "cell_type": "markdown",
   "metadata": {},
   "source": [
    "GRAPH THESE\n",
    "avg_value_per_import_category_for_importer\n",
    "avg_value_per_export_category_for_importers\n",
    "\n",
    ".vs.\n",
    "\n",
    "avg_value_per_import_category_for_exporters \n",
    "avg_value_per_export_category_for_exporters"
   ]
  },
  {
   "cell_type": "code",
   "execution_count": null,
   "metadata": {},
   "outputs": [],
   "source": [
    "importers_total_value_for_import_categories"
   ]
  }
 ],
 "metadata": {
  "kernelspec": {
   "display_name": "base",
   "language": "python",
   "name": "python3"
  },
  "language_info": {
   "codemirror_mode": {
    "name": "ipython",
    "version": 3
   },
   "file_extension": ".py",
   "mimetype": "text/x-python",
   "name": "python",
   "nbconvert_exporter": "python",
   "pygments_lexer": "ipython3",
   "version": "3.12.4"
  }
 },
 "nbformat": 4,
 "nbformat_minor": 2
}
