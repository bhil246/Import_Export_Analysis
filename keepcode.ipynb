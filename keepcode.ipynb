{
 "cells": [
  {
   "cell_type": "code",
   "execution_count": null,
   "metadata": {},
   "outputs": [],
   "source": [
    "#Compare top 5 ports from each category by\n",
    "    #number of transactions\n",
    "    #volume of imports/exports\n",
    "    #quantity & weight\n",
    "    #total value and value per transaction\n",
    "#Contrast this with the bottom 5 ports \n",
    "#Also hope to see if there any connections to specific countries, suppliers, categories, or customers\n",
    "    #such as a specific customer pays more for a certain category than another \n",
    "    #what is the variance between each port with the value and quantity?\n",
    "#look at trends of price change, shipping method by CATEGORY over the data frames time period "
   ]
  },
  {
   "cell_type": "code",
   "execution_count": null,
   "metadata": {},
   "outputs": [],
   "source": [
    "#Look at the transaction of each top 5 to further explore any findings or trends \n",
    "    #are they exporting to the same country? importing from the same country? \n",
    "    #which category is most prevelant among the transactions?\n",
    "    #what is the average cost/price per transaction \n"
   ]
  },
  {
   "cell_type": "code",
   "execution_count": null,
   "metadata": {},
   "outputs": [
    {
     "ename": "NameError",
     "evalue": "name 'trade_df' is not defined",
     "output_type": "error",
     "traceback": [
      "\u001b[1;31m---------------------------------------------------------------------------\u001b[0m",
      "\u001b[1;31mNameError\u001b[0m                                 Traceback (most recent call last)",
      "Cell \u001b[1;32mIn[1], line 1\u001b[0m\n\u001b[1;32m----> 1\u001b[0m num_of_trans_per_port \u001b[38;5;241m=\u001b[39m trade_df\u001b[38;5;241m.\u001b[39mgroupby(\u001b[38;5;124m'\u001b[39m\u001b[38;5;124mPort\u001b[39m\u001b[38;5;124m'\u001b[39m)[\u001b[38;5;124m'\u001b[39m\u001b[38;5;124mTransaction_ID\u001b[39m\u001b[38;5;124m'\u001b[39m]\u001b[38;5;241m.\u001b[39mcount()\n\u001b[0;32m      2\u001b[0m sorted_num_of_trans_per_port \u001b[38;5;241m=\u001b[39m num_of_trans_per_port\u001b[38;5;241m.\u001b[39msort_values(ascending \u001b[38;5;241m=\u001b[39m \u001b[38;5;28;01mFalse\u001b[39;00m)\n\u001b[0;32m      3\u001b[0m sorted_num_of_trans_per_port\n",
      "\u001b[1;31mNameError\u001b[0m: name 'trade_df' is not defined"
     ]
    }
   ],
   "source": [
    "#Top 5 ports per total number of transactions\n",
    "num_of_trans_per_port = trade_df.groupby('Port')['Transaction_ID'].count()\n",
    "sorted_num_of_trans_per_port = num_of_trans_per_port.sort_values(ascending = False)\n",
    "sorted_num_of_trans_per_port"
   ]
  },
  {
   "cell_type": "code",
   "execution_count": null,
   "metadata": {},
   "outputs": [],
   "source": [
    "#Look at the top 5 ports by total quantity, total value, total transactions\n",
    "    #from there, see if there are any trends between categories, customers, suppliers, day of week, payment method, etc"
   ]
  },
  {
   "cell_type": "code",
   "execution_count": null,
   "metadata": {},
   "outputs": [],
   "source": [
    "#top 5 ports by total value\n",
    "sum_value_per_port = trade_df.groupby('Port')['Value'].sum().sort_values(ascending= False).head(5)\n",
    "sum_value_per_port \n",
    "sum_value_per_port = trade_df.groupby('Port')['Value'].sum().sort_values(ascending= False).head(5)\n",
    "sum_value_per_port"
   ]
  },
  {
   "cell_type": "code",
   "execution_count": null,
   "metadata": {},
   "outputs": [],
   "source": [
    "#avg value per port to help filter for new dataframe\n",
    "avg_value_per_port = sum_value_per_port.mean()\n",
    "avg_value_per_port"
   ]
  },
  {
   "cell_type": "code",
   "execution_count": null,
   "metadata": {},
   "outputs": [],
   "source": [
    "#top 5 ports per total weight\n",
    "sum_weight_per_port = trade_df.groupby('Port')['Weight'].sum()\n",
    "sum_weight_per_port\n",
    "top_5_ports_per_total_weight = sum_weight_per_port.sort_values(ascending = False)\n",
    "top_5_ports_per_total_weight"
   ]
  },
  {
   "cell_type": "code",
   "execution_count": null,
   "metadata": {},
   "outputs": [],
   "source": [
    "#avg weight by port \n",
    "avg_weight_per_port = sum_weight_per_port.mean()\n",
    "avg_weight_per_port"
   ]
  },
  {
   "cell_type": "code",
   "execution_count": null,
   "metadata": {},
   "outputs": [],
   "source": [
    "#top 5 ports per total quantity \n",
    "sum_of_total_quantity_per_port = trade_df.groupby('Port')['Quantity'].sum()\n",
    "sum_of_total_quantity_per_port\n",
    "top_5_port_per_quantity = sum_of_total_quantity_per_port.sort_values(ascending=False)\n",
    "top_5_port_per_quantity"
   ]
  },
  {
   "cell_type": "code",
   "execution_count": null,
   "metadata": {},
   "outputs": [],
   "source": [
    "#avg total quantity per port \n",
    "avg_total_quantity_per_port = sum_of_total_quantity_per_port.mean()\n",
    "avg_total_quantity_per_port"
   ]
  },
  {
   "cell_type": "code",
   "execution_count": null,
   "metadata": {},
   "outputs": [],
   "source": [
    "#top 5 port by import/export amount"
   ]
  },
  {
   "cell_type": "code",
   "execution_count": null,
   "metadata": {},
   "outputs": [],
   "source": [
    "\n",
    "#top 5 ports by export count\n",
    "export_df = trade_df[trade_df['Import_Export'] == 'Export']\n",
    "export_counts_per_port = export_df.groupby('Port')['Transaction_ID'].count()\n",
    "top_5_ports_by_export_count = export_counts_per_port.sort_values(ascending= False)\n",
    "top_5_ports_by_export_count"
   ]
  },
  {
   "cell_type": "code",
   "execution_count": null,
   "metadata": {},
   "outputs": [],
   "source": [
    "#avg number of exports per port \n",
    "avg_num_of_export_per_port = export_counts_per_port.mean()\n",
    "avg_num_of_export_per_port"
   ]
  },
  {
   "cell_type": "code",
   "execution_count": null,
   "metadata": {},
   "outputs": [],
   "source": [
    "#top 5 port by import count \n",
    "import_df = trade_df[trade_df['Import_Export'] == 'Import']\n",
    "import_counts_per_port = import_df.groupby('Port')['Transaction_ID'].count()\n",
    "top_5_ports_by_import_count = import_counts_per_port.sort_values(ascending= False)\n",
    "top_5_ports_by_import_count \n",
    "\n"
   ]
  },
  {
   "cell_type": "code",
   "execution_count": null,
   "metadata": {},
   "outputs": [],
   "source": [
    "#avg number of imports per port \n",
    "avg_num_imports_per_port = import_counts_per_port.mean()\n",
    "avg_num_imports_per_port"
   ]
  },
  {
   "cell_type": "code",
   "execution_count": null,
   "metadata": {},
   "outputs": [],
   "source": [
    "#average of total import/exports\n",
    "num_of_trans_per_port = trade_df.groupby('Port')['Transaction_ID'].count()\n",
    "sorted_num_of_trans_per_port = num_of_trans_per_port.sort_values(ascending = False)\n",
    "avg_num_of_trans_per_port = num_of_trans_per_port.mean()\n",
    "\n"
   ]
  },
  {
   "cell_type": "code",
   "execution_count": null,
   "metadata": {},
   "outputs": [],
   "source": [
    "#create a new dataframe where it only returns the transaction where total # number of transactions is greater than the average, number of imports and exports is greater than average, total value is greater than average, total quantity greater than average\n",
    "#"
   ]
  },
  {
   "cell_type": "code",
   "execution_count": null,
   "metadata": {},
   "outputs": [],
   "source": [
    "#RESEARCH QUESTION IS COMPARING TRANSACTIONS OF TOP 20 NET IMPORTERS VERSUS NET EXPORTERS \n",
    "#LOOKING AT THE TYPES OF TRANSCATIONS THAT OCCURED AS IMPORTS VERSUS EXPORTS - PRICE PER KG, CATEGORY, FREQUENCY, SHIPPING METHOD\n",
    "\n",
    "#CREATE A DATAFRAME THAT GROUPS BY PORTS AND THEN RETURNS WHEN THE FOLLOWING CONDITIONS ARE MET:\n",
    "    # NUM OF TRANSACTIONS \n",
    "#EXAMPLE FINDING, WHERE IS THE TOP PORT LOCATED THAT EXPORTS THE AMOUNT OF A CERTAIN CATEGORY AND FOR HOW MUCH EACH TRANSACTION\n",
    "#which shipping methods or payments methods do the top 5 net importers and net exporters prefer?\n"
   ]
  },
  {
   "cell_type": "code",
   "execution_count": null,
   "metadata": {},
   "outputs": [],
   "source": [
    "#changed research question to compare the net value of imports and exports instead of by total weight/quantity/etc\n"
   ]
  },
  {
   "cell_type": "markdown",
   "metadata": {},
   "source": [
    "Keep top_net_importers & top_net_exporters to show whether the economic value of imports and exports to show \n",
    "whether one a port is a net importer or exporter"
   ]
  },
  {
   "cell_type": "markdown",
   "metadata": {},
   "source": [
    "net_importer_df\n",
    "net_exporter_df \n",
    "are the dataframes that have all of the ports that were identified as either a net importer and net exporter and also includes \n",
    "    all of the previous columns of data from the original data but filtered down "
   ]
  },
  {
   "cell_type": "markdown",
   "metadata": {},
   "source": [
    "my question hurdle is what is good practice for statistical comparisons? \n",
    "for example, for net importers is it better to use their total amount of imports/exports as a basis for comparison OR\n",
    "    to look at the total number of each import and export to use as comparison to net exporters \n",
    "\n",
    "\n",
    "Looking at the import and export transactions between net importers and net exporters to look at\n",
    "    value per transaction\n",
    "    which category was imported or exported more for net importers/exporters\n",
    "    shipping method and category . what is the cost of the shipping method dependong the category for whether something was imported or exported"
   ]
  },
  {
   "cell_type": "markdown",
   "metadata": {},
   "source": [
    "Overview, comparing the net importers versus net exporters by VALUE and NOT transaction volume. \n",
    "trade value is a more accurate reflection of economic impact rather than the volume "
   ]
  },
  {
   "cell_type": "markdown",
   "metadata": {},
   "source": [
    "LOOK AT THE VALUER PER IMPORT AND EXPORT AND THEN LOOK INTO THE CATEGORIES\n"
   ]
  },
  {
   "cell_type": "code",
   "execution_count": null,
   "metadata": {},
   "outputs": [],
   "source": [
    "#HLPE GRAPHING\n",
    "net_importers_avg_value_per_import\n",
    "net_importers_avg_value_per_export\n",
    "\n",
    "net_exporters_avg_value_per_import\n",
    "net_exporters_avg_value_per_export\n"
   ]
  },
  {
   "cell_type": "code",
   "execution_count": null,
   "metadata": {},
   "outputs": [],
   "source": [
    "#this looks at the original date frame and finds the total value of imports and exports from the top 20 ports \n",
    "#sum_value_per_port = trade_df.groupby('Port')['Value'].sum().sort_values(ascending= False).head(20)\n",
    "#sum_value_per_port\n",
    "\n",
    "#this is the average value of imports and exports \n",
    "# avg_value_per_port = sum_value_per_port.mean()\n",
    "# avg_value_per_port\n",
    "\n",
    "# USE THESE VARIABLES TO DO A CORRELATION BETWEEN NET IMPORTERS/EXPORTERS\n",
    "# sum_weight_per_port = trade_df.groupby('Port')['Weight'].sum()\n",
    "# sum_weight_per_port\n",
    "\n",
    "# vg_weight_per_port = sum_weight_per_port.mean()\n",
    "# avg_weight_per_port\n",
    "\n",
    "# sum_of_total_quantity_per_port = trade_df.groupby('Port')['Quantity'].sum()\n",
    "# sum_of_total_quantity_per_port\n",
    "\n",
    "# avg_total_quantity_per_port = sum_of_total_quantity_per_port.mean()\n",
    "# avg_total_quantity_per_port\n",
    "\n",
    "# top_5_port_per_quantity = sum_of_total_quantity_per_port.sort_values(ascending=False)\n",
    "# top_5_port_per_quantity\n",
    "\n",
    "# num_of_trans_per_port = trade_df.groupby('Port')['Transaction_ID'].count()\n",
    "# sorted_num_of_trans_per_port = num_of_trans_per_port.sort_values(ascending = False)\n",
    "# sorted_num_of_trans_per_port\n",
    "\n",
    "#sum_of_import_export_amount = trade_df.groupby('Port')['Import_Export'].count()\n",
    "# top_5_ports_by_import_export_amount = sum_of_import_export_amount.sort_values(ascending = False)\n",
    "# top_5_ports_by_import_export_amount\n",
    "# #"
   ]
  },
  {
   "cell_type": "markdown",
   "metadata": {},
   "source": [
    "GRAPH THESE\n",
    "avg_value_per_import_category_for_importer\n",
    "avg_value_per_export_category_for_importers\n",
    "\n",
    ".vs.\n",
    "\n",
    "avg_value_per_import_category_for_exporters \n",
    "avg_value_per_export_category_for_exporters"
   ]
  }
 ],
 "metadata": {
  "kernelspec": {
   "display_name": "base",
   "language": "python",
   "name": "python3"
  },
  "language_info": {
   "codemirror_mode": {
    "name": "ipython",
    "version": 3
   },
   "file_extension": ".py",
   "mimetype": "text/x-python",
   "name": "python",
   "nbconvert_exporter": "python",
   "pygments_lexer": "ipython3",
   "version": "3.12.4"
  }
 },
 "nbformat": 4,
 "nbformat_minor": 2
}
